{
 "cells": [
  {
   "cell_type": "code",
   "execution_count": 1,
   "metadata": {},
   "outputs": [
    {
     "name": "stdout",
     "output_type": "stream",
     "text": [
      "Welcome to the number guessing game!\n",
      "How many games do you wish to play? 1\n",
      "Game 1\n",
      "Guess the number: 23\n",
      "Target number is smaller\n",
      "Guess the number: 10\n",
      "Target number is smaller\n",
      "Guess the number: 2\n",
      "Correct guess, well done!\n",
      "You used 3 guesses\n"
     ]
    }
   ],
   "source": [
    "import random\n",
    "\n",
    "print(\"Welcome to the number guessing game!\")\n",
    "count = input(\"How many games do you wish to play? \")\n",
    "try:\n",
    "    count = int(count)\n",
    "except:\n",
    "    print(\"That is not a number!\")\n",
    "    count = 0\n",
    "\n",
    "i = 1\n",
    "while i <= count:\n",
    "    print(\"Game %i\" %i)\n",
    "    target = random.randint(1, 25)\n",
    "    correct = False\n",
    "    guesses = 0\n",
    "    while not correct:\n",
    "        guesses += 1\n",
    "        guess = input(\"Guess the number: \")\n",
    "        try:\n",
    "            guess = int(guess)\n",
    "        except:\n",
    "            print(\"That is not a number!\")\n",
    "            continue\n",
    "        if guess < target:\n",
    "            print(\"Target number is larger\")\n",
    "        elif guess > target:\n",
    "            print(\"Target number is smaller\")\n",
    "        else:\n",
    "            print(\"Correct guess, well done!\")\n",
    "            correct = True\n",
    "    print(\"You used %i guesses\" %guesses)\n",
    "    i += 1\n",
    "        "
   ]
  }
 ],
 "metadata": {
  "kernelspec": {
   "display_name": "Python 3",
   "language": "python",
   "name": "python3"
  },
  "language_info": {
   "codemirror_mode": {
    "name": "ipython",
    "version": 3
   },
   "file_extension": ".py",
   "mimetype": "text/x-python",
   "name": "python",
   "nbconvert_exporter": "python",
   "pygments_lexer": "ipython3",
   "version": "3.7.3"
  }
 },
 "nbformat": 4,
 "nbformat_minor": 2
}
